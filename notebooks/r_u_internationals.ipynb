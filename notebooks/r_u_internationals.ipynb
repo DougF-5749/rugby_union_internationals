{
 "cells": [
  {
   "cell_type": "markdown",
   "metadata": {},
   "source": [
    "Import NumPy and pandas\n",
    "\n",
    "Created the 'results' DataFrame and preview the first 5 rows."
   ]
  },
  {
   "cell_type": "code",
   "execution_count": 1,
   "metadata": {},
   "outputs": [
    {
     "data": {
      "text/html": [
       "<div>\n",
       "<style scoped>\n",
       "    .dataframe tbody tr th:only-of-type {\n",
       "        vertical-align: middle;\n",
       "    }\n",
       "\n",
       "    .dataframe tbody tr th {\n",
       "        vertical-align: top;\n",
       "    }\n",
       "\n",
       "    .dataframe thead th {\n",
       "        text-align: right;\n",
       "    }\n",
       "</style>\n",
       "<table border=\"1\" class=\"dataframe\">\n",
       "  <thead>\n",
       "    <tr style=\"text-align: right;\">\n",
       "      <th></th>\n",
       "      <th>date</th>\n",
       "      <th>home_team</th>\n",
       "      <th>away_team</th>\n",
       "      <th>home_score</th>\n",
       "      <th>away_score</th>\n",
       "      <th>competition</th>\n",
       "      <th>stadium</th>\n",
       "      <th>city</th>\n",
       "      <th>country</th>\n",
       "      <th>neutral</th>\n",
       "      <th>world_cup</th>\n",
       "    </tr>\n",
       "  </thead>\n",
       "  <tbody>\n",
       "    <tr>\n",
       "      <th>0</th>\n",
       "      <td>1871-03-27</td>\n",
       "      <td>Scotland</td>\n",
       "      <td>England</td>\n",
       "      <td>1</td>\n",
       "      <td>0</td>\n",
       "      <td>1871 Scotland v England International</td>\n",
       "      <td>Raeburn Place</td>\n",
       "      <td>Edinburgh</td>\n",
       "      <td>Scotland</td>\n",
       "      <td>False</td>\n",
       "      <td>False</td>\n",
       "    </tr>\n",
       "    <tr>\n",
       "      <th>1</th>\n",
       "      <td>1872-02-05</td>\n",
       "      <td>England</td>\n",
       "      <td>Scotland</td>\n",
       "      <td>2</td>\n",
       "      <td>1</td>\n",
       "      <td>1871–72 Home Nations International</td>\n",
       "      <td>The Oval</td>\n",
       "      <td>London</td>\n",
       "      <td>England</td>\n",
       "      <td>False</td>\n",
       "      <td>False</td>\n",
       "    </tr>\n",
       "    <tr>\n",
       "      <th>2</th>\n",
       "      <td>1873-03-03</td>\n",
       "      <td>Scotland</td>\n",
       "      <td>England</td>\n",
       "      <td>0</td>\n",
       "      <td>0</td>\n",
       "      <td>1872–73 Home Nations International</td>\n",
       "      <td>West of Scotland F.C.</td>\n",
       "      <td>Glasgow</td>\n",
       "      <td>Scotland</td>\n",
       "      <td>False</td>\n",
       "      <td>False</td>\n",
       "    </tr>\n",
       "    <tr>\n",
       "      <th>3</th>\n",
       "      <td>1874-02-23</td>\n",
       "      <td>England</td>\n",
       "      <td>Scotland</td>\n",
       "      <td>1</td>\n",
       "      <td>0</td>\n",
       "      <td>1873–74 Home Nations International</td>\n",
       "      <td>The Oval</td>\n",
       "      <td>London</td>\n",
       "      <td>England</td>\n",
       "      <td>False</td>\n",
       "      <td>False</td>\n",
       "    </tr>\n",
       "    <tr>\n",
       "      <th>4</th>\n",
       "      <td>1875-02-15</td>\n",
       "      <td>England</td>\n",
       "      <td>Ireland</td>\n",
       "      <td>2</td>\n",
       "      <td>0</td>\n",
       "      <td>1874–75 Home Nations rugby union matches</td>\n",
       "      <td>The Oval</td>\n",
       "      <td>London</td>\n",
       "      <td>England</td>\n",
       "      <td>False</td>\n",
       "      <td>False</td>\n",
       "    </tr>\n",
       "  </tbody>\n",
       "</table>\n",
       "</div>"
      ],
      "text/plain": [
       "         date home_team away_team  home_score  away_score  \\\n",
       "0  1871-03-27  Scotland   England           1           0   \n",
       "1  1872-02-05   England  Scotland           2           1   \n",
       "2  1873-03-03  Scotland   England           0           0   \n",
       "3  1874-02-23   England  Scotland           1           0   \n",
       "4  1875-02-15   England   Ireland           2           0   \n",
       "\n",
       "                                competition                stadium       city  \\\n",
       "0     1871 Scotland v England International          Raeburn Place  Edinburgh   \n",
       "1        1871–72 Home Nations International               The Oval     London   \n",
       "2        1872–73 Home Nations International  West of Scotland F.C.    Glasgow   \n",
       "3        1873–74 Home Nations International               The Oval     London   \n",
       "4  1874–75 Home Nations rugby union matches               The Oval     London   \n",
       "\n",
       "    country  neutral  world_cup  \n",
       "0  Scotland    False      False  \n",
       "1   England    False      False  \n",
       "2  Scotland    False      False  \n",
       "3   England    False      False  \n",
       "4   England    False      False  "
      ]
     },
     "execution_count": 1,
     "metadata": {},
     "output_type": "execute_result"
    }
   ],
   "source": [
    "import pandas as pd\n",
    "import numpy as np\n",
    "\n",
    "results = pd.read_csv('../data/results.csv')\n",
    "\n",
    "results.head()"
   ]
  },
  {
   "cell_type": "code",
   "execution_count": 3,
   "metadata": {},
   "outputs": [
    {
     "data": {
      "text/plain": [
       "stadium\n",
       "Twickenham                                    234\n",
       "Lansdowne Road                                229\n",
       "Murrayfield Stadium                           176\n",
       "Millennium Stadium                            134\n",
       "National Stadium                              116\n",
       "                                             ... \n",
       "Estadio José Amalfitani                         1\n",
       "Estadio Brigadier General Estanislao López      1\n",
       "Royal Bafokeng Stadium                          1\n",
       "Estadio Raúl Conti                              1\n",
       "Optus Stadium                                   1\n",
       "Name: count, Length: 237, dtype: int64"
      ]
     },
     "execution_count": 3,
     "metadata": {},
     "output_type": "execute_result"
    }
   ],
   "source": [
    "unique_stadiums = results['stadium'].value_counts()\n",
    "\n",
    "unique_stadiums"
   ]
  },
  {
   "cell_type": "markdown",
   "metadata": {},
   "source": [
    "237 unique stadiums.\n",
    "\n"
   ]
  },
  {
   "cell_type": "markdown",
   "metadata": {},
   "source": []
  }
 ],
 "metadata": {
  "kernelspec": {
   "display_name": "venv",
   "language": "python",
   "name": "python3"
  },
  "language_info": {
   "codemirror_mode": {
    "name": "ipython",
    "version": 3
   },
   "file_extension": ".py",
   "mimetype": "text/x-python",
   "name": "python",
   "nbconvert_exporter": "python",
   "pygments_lexer": "ipython3",
   "version": "3.12.7"
  }
 },
 "nbformat": 4,
 "nbformat_minor": 2
}
